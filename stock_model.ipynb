{
 "cells": [
  {
   "cell_type": "code",
   "execution_count": 37,
   "id": "6ff9e62d",
   "metadata": {},
   "outputs": [],
   "source": [
    "import numpy as np\n",
    "import pandas as pd\n",
    "import matplotlib.pyplot as plt\n",
    "import yfinance as yf\n",
    "from keras.models import load_model\n",
    "import streamlit as st"
   ]
  },
  {
   "cell_type": "code",
   "execution_count": 38,
   "id": "793c1926",
   "metadata": {},
   "outputs": [],
   "source": [
    "start = '2014-01-01'\n",
    "end = '2024-01-01'"
   ]
  },
  {
   "cell_type": "code",
   "execution_count": 41,
   "id": "0b2537e7",
   "metadata": {},
   "outputs": [
    {
     "name": "stderr",
     "output_type": "stream",
     "text": [
      "2024-11-11 12:36:38.664 Thread 'MainThread': missing ScriptRunContext! This warning can be ignored when running in bare mode.\n",
      "2024-11-11 12:36:38.666 Thread 'MainThread': missing ScriptRunContext! This warning can be ignored when running in bare mode.\n",
      "2024-11-11 12:36:38.668 Thread 'MainThread': missing ScriptRunContext! This warning can be ignored when running in bare mode.\n",
      "2024-11-11 12:36:38.670 Thread 'MainThread': missing ScriptRunContext! This warning can be ignored when running in bare mode.\n",
      "2024-11-11 12:36:38.671 Thread 'MainThread': missing ScriptRunContext! This warning can be ignored when running in bare mode.\n",
      "2024-11-11 12:36:38.672 Thread 'MainThread': missing ScriptRunContext! This warning can be ignored when running in bare mode.\n",
      "2024-11-11 12:36:38.675 Session state does not function when running a script without `streamlit run`\n",
      "2024-11-11 12:36:38.685 Thread 'MainThread': missing ScriptRunContext! This warning can be ignored when running in bare mode.\n",
      "2024-11-11 12:36:38.687 Thread 'MainThread': missing ScriptRunContext! This warning can be ignored when running in bare mode.\n",
      "[*********************100%%**********************]  1 of 1 completed\n",
      "2024-11-11 12:36:40.029 Thread 'MainThread': missing ScriptRunContext! This warning can be ignored when running in bare mode.\n",
      "2024-11-11 12:36:40.032 Thread 'MainThread': missing ScriptRunContext! This warning can be ignored when running in bare mode.\n"
     ]
    }
   ],
   "source": [
    "# Title of the app\n",
    "st.title('Stock Price Prediction')\n",
    "\n",
    "# User input\n",
    "user_input = st.text_input(\"Enter Stock Ticker\", \"AAPL\")\n",
    "\n",
    "# Define start and end dates\n",
    "start = '2014-01-01'\n",
    "end = '2024-01-01'\n",
    "\n",
    "# Load data using yfinance\n",
    "df = yf.download(user_input, start=start, end=end)\n",
    "\n",
    "# Display the first few rows of the data\n",
    "st.write(df.head())\n"
   ]
  },
  {
   "cell_type": "code",
   "execution_count": 11,
   "id": "95757874",
   "metadata": {},
   "outputs": [
    {
     "name": "stdout",
     "output_type": "stream",
     "text": [
      "Collecting pandas_datareader\n",
      "  Downloading pandas_datareader-0.10.0-py3-none-any.whl (109 kB)\n",
      "     -------------------------------------- 109.5/109.5 kB 3.1 MB/s eta 0:00:00\n",
      "Requirement already satisfied: requests>=2.19.0 in c:\\users\\vaibhav\\anaconda3\\lib\\site-packages (from pandas_datareader) (2.32.3)\n",
      "Requirement already satisfied: pandas>=0.23 in c:\\users\\vaibhav\\anaconda3\\lib\\site-packages (from pandas_datareader) (1.4.4)\n",
      "Requirement already satisfied: lxml in c:\\users\\vaibhav\\anaconda3\\lib\\site-packages (from pandas_datareader) (4.9.1)\n",
      "Requirement already satisfied: numpy>=1.18.5 in c:\\users\\vaibhav\\anaconda3\\lib\\site-packages (from pandas>=0.23->pandas_datareader) (1.26.4)\n",
      "Requirement already satisfied: python-dateutil>=2.8.1 in c:\\users\\vaibhav\\anaconda3\\lib\\site-packages (from pandas>=0.23->pandas_datareader) (2.8.2)\n",
      "Requirement already satisfied: pytz>=2020.1 in c:\\users\\vaibhav\\anaconda3\\lib\\site-packages (from pandas>=0.23->pandas_datareader) (2024.1)\n",
      "Requirement already satisfied: urllib3<3,>=1.21.1 in c:\\users\\vaibhav\\anaconda3\\lib\\site-packages (from requests>=2.19.0->pandas_datareader) (1.26.11)\n",
      "Requirement already satisfied: charset-normalizer<4,>=2 in c:\\users\\vaibhav\\anaconda3\\lib\\site-packages (from requests>=2.19.0->pandas_datareader) (2.0.4)\n",
      "Requirement already satisfied: idna<4,>=2.5 in c:\\users\\vaibhav\\anaconda3\\lib\\site-packages (from requests>=2.19.0->pandas_datareader) (3.3)\n",
      "Requirement already satisfied: certifi>=2017.4.17 in c:\\users\\vaibhav\\anaconda3\\lib\\site-packages (from requests>=2.19.0->pandas_datareader) (2024.8.30)\n",
      "Requirement already satisfied: six>=1.5 in c:\\users\\vaibhav\\anaconda3\\lib\\site-packages (from python-dateutil>=2.8.1->pandas>=0.23->pandas_datareader) (1.16.0)\n",
      "Installing collected packages: pandas_datareader\n",
      "Successfully installed pandas_datareader-0.10.0\n"
     ]
    }
   ],
   "source": [
    "!pip install pandas_datareader"
   ]
  },
  {
   "cell_type": "code",
   "execution_count": 42,
   "id": "d923ffdb",
   "metadata": {},
   "outputs": [
    {
     "name": "stdout",
     "output_type": "stream",
     "text": [
      "Training data shape: (1761, 1)\n",
      "Testing data shape: (755, 1)\n"
     ]
    }
   ],
   "source": [
    "# Splitting data into training and testing sets\n",
    "data_training = pd.DataFrame(df['Close'][0:int(len(df) * 0.70)])\n",
    "data_testing = pd.DataFrame(df['Close'][int(len(df) * 0.70): int(len(df))])\n",
    "\n",
    "# Displaying the shapes of the training and testing datasets\n",
    "print(\"Training data shape:\", data_training.shape)\n",
    "print(\"Testing data shape:\", data_testing.shape)"
   ]
  },
  {
   "cell_type": "code",
   "execution_count": 22,
   "id": "f186e974",
   "metadata": {},
   "outputs": [],
   "source": [
    "from keras.layers import Dense, Dropout, LSTM \n",
    "from keras.models import Sequential"
   ]
  },
  {
   "cell_type": "code",
   "execution_count": 43,
   "id": "14ccce2a",
   "metadata": {},
   "outputs": [],
   "source": [
    "from sklearn.preprocessing import MinMaxScaler\n",
    "scaler = MinMaxScaler(feature_range=(0,1))"
   ]
  },
  {
   "cell_type": "code",
   "execution_count": 44,
   "id": "2500e2b5",
   "metadata": {},
   "outputs": [
    {
     "data": {
      "text/plain": [
       "array([[0.01603287],\n",
       "       [0.01238153],\n",
       "       [0.01326806],\n",
       "       ...,\n",
       "       [0.96028296],\n",
       "       [1.        ],\n",
       "       [0.98468532]])"
      ]
     },
     "execution_count": 44,
     "metadata": {},
     "output_type": "execute_result"
    }
   ],
   "source": [
    "data_training_array = scaler.fit_transform(data_training)\n",
    "data_training_array"
   ]
  },
  {
   "cell_type": "code",
   "execution_count": 46,
   "id": "b08c4758",
   "metadata": {},
   "outputs": [],
   "source": [
    "x_train = []\n",
    "y_train = []\n",
    "\n",
    "for i in range(100, data_training_array.shape[0]):\n",
    "    x_train.append(data_training_array[i-100: i])\n",
    "    y_train.append(data_training_array[i, 0])\n",
    "\n",
    "x_train, y_train = np.array(x_train), np.array(y_train)"
   ]
  },
  {
   "cell_type": "code",
   "execution_count": 47,
   "id": "19e0fe09",
   "metadata": {},
   "outputs": [],
   "source": [
    "# Initialize the model\n",
    "model = Sequential() \n",
    "\n",
    "# Add LSTM and Dropout layers\n",
    "model.add(LSTM(units=50, activation='relu', return_sequences=True, input_shape=(x_train.shape[1], 1)))\n",
    "model.add(Dropout(0.2))\n",
    "\n",
    "model.add(LSTM(units=60, activation='relu', return_sequences=True))\n",
    "model.add(Dropout(0.3))\n",
    "\n",
    "model.add(LSTM(units=80, activation='relu', return_sequences=True))\n",
    "model.add(Dropout(0.4))\n",
    "\n",
    "model.add(LSTM(units=120, activation='relu'))\n",
    "model.add(Dropout(0.5))\n",
    "\n",
    "# Output layer\n",
    "model.add(Dense(units=1))\n"
   ]
  },
  {
   "cell_type": "code",
   "execution_count": 49,
   "id": "df126b61",
   "metadata": {},
   "outputs": [
    {
     "name": "stdout",
     "output_type": "stream",
     "text": [
      "WARNING:tensorflow:From C:\\Users\\Vaibhav\\anaconda3\\lib\\site-packages\\keras\\src\\optimizers\\__init__.py:309: The name tf.train.Optimizer is deprecated. Please use tf.compat.v1.train.Optimizer instead.\n",
      "\n",
      "Epoch 1/50\n",
      "WARNING:tensorflow:From C:\\Users\\Vaibhav\\anaconda3\\lib\\site-packages\\keras\\src\\utils\\tf_utils.py:492: The name tf.ragged.RaggedTensorValue is deprecated. Please use tf.compat.v1.ragged.RaggedTensorValue instead.\n",
      "\n",
      "52/52 [==============================] - 12s 158ms/step - loss: 0.0222\n",
      "Epoch 2/50\n",
      "52/52 [==============================] - 8s 154ms/step - loss: 0.0046\n",
      "Epoch 3/50\n",
      "52/52 [==============================] - 8s 163ms/step - loss: 0.0039\n",
      "Epoch 4/50\n",
      "52/52 [==============================] - 9s 169ms/step - loss: 0.0034\n",
      "Epoch 5/50\n",
      "52/52 [==============================] - 9s 165ms/step - loss: 0.0036\n",
      "Epoch 6/50\n",
      "52/52 [==============================] - 9s 166ms/step - loss: 0.0035\n",
      "Epoch 7/50\n",
      "52/52 [==============================] - 9s 177ms/step - loss: 0.0031\n",
      "Epoch 8/50\n",
      "52/52 [==============================] - 9s 177ms/step - loss: 0.0029\n",
      "Epoch 9/50\n",
      "52/52 [==============================] - 8s 162ms/step - loss: 0.0031\n",
      "Epoch 10/50\n",
      "52/52 [==============================] - 8s 161ms/step - loss: 0.0030\n",
      "Epoch 11/50\n",
      "52/52 [==============================] - 8s 161ms/step - loss: 0.0027\n",
      "Epoch 12/50\n",
      "52/52 [==============================] - 8s 161ms/step - loss: 0.0023\n",
      "Epoch 13/50\n",
      "52/52 [==============================] - 8s 161ms/step - loss: 0.0022\n",
      "Epoch 14/50\n",
      "52/52 [==============================] - 8s 162ms/step - loss: 0.0021\n",
      "Epoch 15/50\n",
      "52/52 [==============================] - 8s 160ms/step - loss: 0.0023\n",
      "Epoch 16/50\n",
      "52/52 [==============================] - 8s 160ms/step - loss: 0.0024\n",
      "Epoch 17/50\n",
      "52/52 [==============================] - 8s 161ms/step - loss: 0.0025\n",
      "Epoch 18/50\n",
      "52/52 [==============================] - 8s 161ms/step - loss: 0.0022\n",
      "Epoch 19/50\n",
      "52/52 [==============================] - 8s 162ms/step - loss: 0.0023\n",
      "Epoch 20/50\n",
      "52/52 [==============================] - 8s 162ms/step - loss: 0.0020\n",
      "Epoch 21/50\n",
      "52/52 [==============================] - 9s 175ms/step - loss: 0.0023\n",
      "Epoch 22/50\n",
      "52/52 [==============================] - 9s 180ms/step - loss: 0.0022\n",
      "Epoch 23/50\n",
      "52/52 [==============================] - 10s 197ms/step - loss: 0.0020\n",
      "Epoch 24/50\n",
      "52/52 [==============================] - 12s 226ms/step - loss: 0.0019\n",
      "Epoch 25/50\n",
      "52/52 [==============================] - 12s 233ms/step - loss: 0.0017\n",
      "Epoch 26/50\n",
      "52/52 [==============================] - 14s 264ms/step - loss: 0.0020\n",
      "Epoch 27/50\n",
      "52/52 [==============================] - 11s 213ms/step - loss: 0.0019\n",
      "Epoch 28/50\n",
      "52/52 [==============================] - 10s 187ms/step - loss: 0.0021\n",
      "Epoch 29/50\n",
      "52/52 [==============================] - 11s 213ms/step - loss: 0.0017\n",
      "Epoch 30/50\n",
      "52/52 [==============================] - 11s 216ms/step - loss: 0.0015\n",
      "Epoch 31/50\n",
      "52/52 [==============================] - 9s 181ms/step - loss: 0.0019\n",
      "Epoch 32/50\n",
      "52/52 [==============================] - 10s 189ms/step - loss: 0.0019\n",
      "Epoch 33/50\n",
      "52/52 [==============================] - 11s 218ms/step - loss: 0.0018\n",
      "Epoch 34/50\n",
      "52/52 [==============================] - 11s 210ms/step - loss: 0.0015\n",
      "Epoch 35/50\n",
      "52/52 [==============================] - 9s 173ms/step - loss: 0.0017\n",
      "Epoch 36/50\n",
      "52/52 [==============================] - 9s 169ms/step - loss: 0.0014\n",
      "Epoch 37/50\n",
      "52/52 [==============================] - 9s 169ms/step - loss: 0.0021\n",
      "Epoch 38/50\n",
      "52/52 [==============================] - 9s 172ms/step - loss: 0.0017\n",
      "Epoch 39/50\n",
      "52/52 [==============================] - 9s 170ms/step - loss: 0.0017\n",
      "Epoch 40/50\n",
      "52/52 [==============================] - 9s 172ms/step - loss: 0.0018\n",
      "Epoch 41/50\n",
      "52/52 [==============================] - 9s 168ms/step - loss: 0.0015\n",
      "Epoch 42/50\n",
      "52/52 [==============================] - 9s 170ms/step - loss: 0.0016\n",
      "Epoch 43/50\n",
      "52/52 [==============================] - 9s 168ms/step - loss: 0.0016\n",
      "Epoch 44/50\n",
      "52/52 [==============================] - 9s 169ms/step - loss: 0.0018\n",
      "Epoch 45/50\n",
      "52/52 [==============================] - 9s 176ms/step - loss: 0.0016\n",
      "Epoch 46/50\n",
      "52/52 [==============================] - 9s 170ms/step - loss: 0.0013\n",
      "Epoch 47/50\n",
      "52/52 [==============================] - 9s 170ms/step - loss: 0.0018\n",
      "Epoch 48/50\n",
      "52/52 [==============================] - 9s 169ms/step - loss: 0.0017\n",
      "Epoch 49/50\n",
      "52/52 [==============================] - 9s 170ms/step - loss: 0.0017\n",
      "Epoch 50/50\n",
      "52/52 [==============================] - 9s 171ms/step - loss: 0.0015\n"
     ]
    },
    {
     "data": {
      "text/plain": [
       "<keras.src.callbacks.History at 0x1ea983b8760>"
      ]
     },
     "execution_count": 49,
     "metadata": {},
     "output_type": "execute_result"
    }
   ],
   "source": [
    "model.compile(optimizer='adam', loss='mean_squared_error')\n",
    "model.fit(x_train, y_train, epochs=50)"
   ]
  },
  {
   "cell_type": "code",
   "execution_count": 1,
   "id": "60880bb6",
   "metadata": {},
   "outputs": [
    {
     "ename": "NameError",
     "evalue": "name 'model' is not defined",
     "output_type": "error",
     "traceback": [
      "\u001b[1;31m---------------------------------------------------------------------------\u001b[0m",
      "\u001b[1;31mNameError\u001b[0m                                 Traceback (most recent call last)",
      "\u001b[1;32m~\\AppData\\Local\\Temp\\ipykernel_2916\\4131087026.py\u001b[0m in \u001b[0;36m<module>\u001b[1;34m\u001b[0m\n\u001b[1;32m----> 1\u001b[1;33m \u001b[0mmodel\u001b[0m\u001b[1;33m.\u001b[0m\u001b[0msave\u001b[0m\u001b[1;33m(\u001b[0m\u001b[1;34m'keras_model.h5'\u001b[0m\u001b[1;33m)\u001b[0m\u001b[1;33m\u001b[0m\u001b[1;33m\u001b[0m\u001b[0m\n\u001b[0m",
      "\u001b[1;31mNameError\u001b[0m: name 'model' is not defined"
     ]
    }
   ],
   "source": [
    "model.save('keras_model.h5')"
   ]
  },
  {
   "cell_type": "code",
   "execution_count": null,
   "id": "a3d46b48",
   "metadata": {},
   "outputs": [],
   "source": []
  },
  {
   "cell_type": "code",
   "execution_count": null,
   "id": "27077578",
   "metadata": {},
   "outputs": [],
   "source": []
  }
 ],
 "metadata": {
  "kernelspec": {
   "display_name": "Python 3 (ipykernel)",
   "language": "python",
   "name": "python3"
  },
  "language_info": {
   "codemirror_mode": {
    "name": "ipython",
    "version": 3
   },
   "file_extension": ".py",
   "mimetype": "text/x-python",
   "name": "python",
   "nbconvert_exporter": "python",
   "pygments_lexer": "ipython3",
   "version": "3.9.13"
  }
 },
 "nbformat": 4,
 "nbformat_minor": 5
}
